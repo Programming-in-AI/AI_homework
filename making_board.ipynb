{
 "cells": [
  {
   "cell_type": "markdown",
   "id": "f9e8578e-fa56-4a65-b5d9-5033d047327a",
   "metadata": {
    "tags": []
   },
   "source": [
    "# making_board"
   ]
  },
  {
   "cell_type": "markdown",
   "id": "4818874a-d103-439f-89df-f878cfdcd145",
   "metadata": {},
   "source": [
    "### code for how to make a background"
   ]
  },
  {
   "cell_type": "code",
   "execution_count": 4,
   "id": "5eb3b0f6-f073-4055-b55e-a72f4577a8c8",
   "metadata": {},
   "outputs": [
    {
     "data": {
      "image/png": "[encoded data removed]",
      "text/plain": [
       "<Figure size 432x288 with 1 Axes>"
      ]
     },
     "metadata": {
      "needs_background": "light"
     },
     "output_type": "display_data"
    }
   ],
   "source": [
    "import numpy as np\n",
    "from PIL import Image, ImageDraw, ImageFont\n",
    "import cv2\n",
    "import matplotlib.pyplot as plt\n",
    "import os\n",
    "\n",
    "l = 0 # never mind\n",
    "\n",
    "image = Image.new(mode='P',size=(470-l,470-l),color=(237,168,85))\n",
    "draw=ImageDraw.Draw(image)\n",
    "\n",
    "\n",
    "for x in range(25 - l,446,30):\n",
    "    v_line = ((x,25 - l),(x,445 - l)) #vertical\n",
    "    h_line = ((25-l,x),(445 - l,x)) #horizontal \n",
    "    draw.line(v_line,fill=1)\n",
    "    draw.line(h_line,fill=1)\n",
    "\n",
    "total = 470 - 2*l #total grid size\n",
    "r = 3 # point radius\n",
    "grid = 30 \n",
    "side = 25 - l\n",
    "tmp = side + grid*3\n",
    "tmp2 = side + grid * 7\n",
    "\n",
    "\n",
    "draw.ellipse([(tmp-r,tmp-r),(tmp+r,tmp+r)],fill=(0,0,0))\n",
    "draw.ellipse([(total - tmp - r, tmp - r),(total - tmp + r,tmp + r)],fill=(0,0,0))\n",
    "draw.ellipse([(tmp - r,total - tmp - r),(tmp + r,total - tmp + r)],fill=(0,0,0))\n",
    "draw.ellipse([(total-tmp-r,total - tmp-r),(total-tmp+r,total-tmp+r)],fill=(0,0,0))\n",
    "draw.ellipse([(tmp2-r,tmp2-r),(tmp2+r,tmp2+r)],fill=(0,0,0))\n",
    "\n",
    "font = ImageFont.truetype(\"Times New Roman Italic.ttf\",10)\n",
    "for x in range(0,15):\n",
    "    draw.text((25+x*30, 10), str(x+1),font=font, fill=(0, 0, 255, 0))\n",
    "    draw.text((10,25+x*30), str(x+1), font=font, fill=(0, 0, 255, 0))\n",
    "    \n",
    "plt.imshow(image)\n",
    "\n",
    "# just fixing progress never mind\n",
    "image = image.convert(\"RGB\")\n",
    "image.save('./image/table.jpg')"
   ]
  }
 ],
 "metadata": {
  "kernelspec": {
   "display_name": "Python 3 (ipykernel)",
   "language": "python",
   "name": "python3"
  },
  "language_info": {
   "codemirror_mode": {
    "name": "ipython",
    "version": 3
   },
   "file_extension": ".py",
   "mimetype": "text/x-python",
   "name": "python",
   "nbconvert_exporter": "python",
   "pygments_lexer": "ipython3",
   "version": "3.9.7"
  }
 },
 "nbformat": 4,
 "nbformat_minor": 5
}
